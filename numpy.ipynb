{
  "nbformat": 4,
  "nbformat_minor": 0,
  "metadata": {
    "colab": {
      "name": "numpy.ipynb",
      "provenance": [],
      "collapsed_sections": [],
      "authorship_tag": "ABX9TyMTiNr4OOW5yGiXw6LPioSR",
      "include_colab_link": true
    },
    "kernelspec": {
      "name": "python3",
      "display_name": "Python 3"
    }
  },
  "cells": [
    {
      "cell_type": "markdown",
      "metadata": {
        "id": "view-in-github",
        "colab_type": "text"
      },
      "source": [
        "<a href=\"https://colab.research.google.com/github/divyatalera/numpy/blob/main/numpy.ipynb\" target=\"_parent\"><img src=\"https://colab.research.google.com/assets/colab-badge.svg\" alt=\"Open In Colab\"/></a>"
      ]
    },
    {
      "cell_type": "markdown",
      "metadata": {
        "id": "q-5ATbDM1GqF"
      },
      "source": [
        "**NumPy**\n",
        "\n",
        "NumPy is a Python library used for working with arrays.\n",
        "\n",
        "NumPy aims to provide an array object that is up to 50x faster than traditional Python lists.\n"
      ]
    },
    {
      "cell_type": "code",
      "metadata": {
        "id": "CKF410dDhWvO",
        "colab": {
          "base_uri": "https://localhost:8080/"
        },
        "outputId": "813ce0ea-a571-4092-a191-cb4376b3688e"
      },
      "source": [
        "#creating array using numpy\n",
        "import numpy as np\n",
        "\n",
        "arr1 = np.array(['a', 'b', 'c', 4, 5])   #1D array\n",
        "arr2 = np.array([['d', 'e', 3], ['x', 's', 6]])   #2D array\n",
        "arr3 = np.array([[1, 2, 3], [4, 5, 6],[7,8,9]])  #3D array\n",
        "\n",
        "print(arr1)\n",
        "print(arr2)\n",
        "print(arr3)\n",
        "\n",
        "print(type(arr1))\n",
        "\n",
        "arr4 = np.array(['m', 'a', 'n', 4], ndmin=6)\n",
        "\n",
        "print(arr4)\n",
        "print('number of dimensions :', arr4.ndim)"
      ],
      "execution_count": 61,
      "outputs": [
        {
          "output_type": "stream",
          "text": [
            "['a' 'b' 'c' '4' '5']\n",
            "[['d' 'e' '3']\n",
            " ['x' 's' '6']]\n",
            "[[1 2 3]\n",
            " [4 5 6]\n",
            " [7 8 9]]\n",
            "<class 'numpy.ndarray'>\n",
            "[[[[[['m' 'a' 'n' '4']]]]]]\n",
            "number of dimensions : 6\n"
          ],
          "name": "stdout"
        }
      ]
    },
    {
      "cell_type": "code",
      "metadata": {
        "colab": {
          "base_uri": "https://localhost:8080/"
        },
        "id": "7MVdQm5GS1AV",
        "outputId": "f4c9b9e7-f90d-4894-dfae-6cf0edadf882"
      },
      "source": [
        "#Array Indexing using numpy\n",
        "\n",
        "arr = np.array([1, 2, 5, 4])\n",
        "print(arr[1])\n",
        "print(arr[1] + arr[3])\n",
        "\n",
        "arr1 = np.array([[1,2,4,5], [6,7,8,9]])\n",
        "print('2nd element on 1st dim: ', arr1[0, 1])\n",
        "print('4th element on 2nd dim: ', arr1[1, 3])\n",
        "print('Last element from 2nd dim: ', arr1[1, -1])\n",
        "\n",
        "arr2 = np.array([[[1, 2, 3], [4, 5, 6]], [[7, 8, 9], [10, 11, 12]]])\n",
        "print(arr2[1, 0, 1])"
      ],
      "execution_count": 62,
      "outputs": [
        {
          "output_type": "stream",
          "text": [
            "2\n",
            "6\n",
            "2nd element on 1st dim:  2\n",
            "4th element on 2nd dim:  9\n",
            "Last element from 2nd dim:  9\n",
            "8\n"
          ],
          "name": "stdout"
        }
      ]
    },
    {
      "cell_type": "code",
      "metadata": {
        "id": "F3JdJIvYVXeg",
        "colab": {
          "base_uri": "https://localhost:8080/"
        },
        "outputId": "92fccb91-32a4-4854-b542-b0f5d2708699"
      },
      "source": [
        "#Array Slicing\n",
        "\n",
        "arr = np.array(['a', 'b', 'c', 4, 5, 6, 7])\n",
        "\n",
        "print(arr[1:5]) #print array[start:end]\n",
        "#Note: The result includes the start index but not the end.\n",
        "\n",
        "print(arr[4:]) \n",
        "#Note: The result includes 4th index till end of the array\n",
        "\n",
        "print(arr[:4])\n",
        "#Note: the result includes all the elements from start till 4th index\n",
        "\n",
        "print(arr[-3:-1])\n",
        "#Note: the array is numbered as [-7,-6,-5,-4,-3,-2,-1]\n",
        "\n",
        "print(arr[1:5:2])\n",
        "# Note: the result includes [start,end,step]\n",
        "# step is jump it takes from one element to other\n",
        "# here it is 2\n",
        "\n",
        "arr = np.array([['a','b','c','d','e'], [6, 7, 8, 9, 10]])\n",
        "\n",
        "print(arr[1, 1:4]) #from second set slice 1 to 4\n",
        "print(arr[0:2, 3]) #from both set get 4th element\n",
        "print(arr[0:2, 1:4]) #from both set slice 1 to 4\n",
        "\n",
        "\n"
      ],
      "execution_count": 63,
      "outputs": [
        {
          "output_type": "stream",
          "text": [
            "['b' 'c' '4' '5']\n",
            "['5' '6' '7']\n",
            "['a' 'b' 'c' '4']\n",
            "['5' '6']\n",
            "['b' '4']\n",
            "['7' '8' '9']\n",
            "['d' '9']\n",
            "[['b' 'c' 'd']\n",
            " ['7' '8' '9']]\n"
          ],
          "name": "stdout"
        }
      ]
    },
    {
      "cell_type": "code",
      "metadata": {
        "id": "INZuGJ9cckfn",
        "colab": {
          "base_uri": "https://localhost:8080/"
        },
        "outputId": "bbd9fe46-5a90-42c6-e442-12cc50d5b97a"
      },
      "source": [
        "#Array Datatypes in numpy\n",
        "# i - integer\n",
        "# b - boolean\n",
        "# u - unsigned integer\n",
        "# f - float\n",
        "# c - complex float\n",
        "# m - timedelta\n",
        "# M - datetime\n",
        "# O - object\n",
        "# S - string\n",
        "# U - unicode string\n",
        "# V - fixed chunk of memory for other type ( void )\n",
        "\n",
        "arr = np.array([1, 2, 3, 4])\n",
        "print(arr.dtype)\n",
        "\n",
        "arr1 = np.array(['charger', 'battery', 'samsung'])\n",
        "print(arr1.dtype) \n",
        "\n",
        "arr2 = np.array([1, 2, 3, 4], dtype='S')\n",
        "print(arr2)\n",
        "\n",
        "arr3 = np.array([1.1, 2.1, 3.1])\n",
        "arr4 = arr3.astype(int) #converts into integer\n",
        "print(arr4)\n",
        "print(arr4.dtype)"
      ],
      "execution_count": 64,
      "outputs": [
        {
          "output_type": "stream",
          "text": [
            "int64\n",
            "<U7\n",
            "[b'1' b'2' b'3' b'4']\n",
            "[1 2 3]\n",
            "int64\n"
          ],
          "name": "stdout"
        }
      ]
    },
    {
      "cell_type": "code",
      "metadata": {
        "id": "aerD-UgLfyJS",
        "colab": {
          "base_uri": "https://localhost:8080/"
        },
        "outputId": "7d58ed8c-3c10-421d-f5f6-3af5caecbe26"
      },
      "source": [
        "# Numpy Array shape\n",
        "arr = np.array([[1, 2, 3, 4], [5, 6, 7, 8]])\n",
        "print(arr.shape)\n",
        "#the result includes (2, 4), which means that the array has 2 dimensions\n",
        "#and each dimension has 4 elements.\n"
      ],
      "execution_count": 65,
      "outputs": [
        {
          "output_type": "stream",
          "text": [
            "(2, 4)\n"
          ],
          "name": "stdout"
        }
      ]
    },
    {
      "cell_type": "code",
      "metadata": {
        "id": "ChNMXha2gwPS",
        "colab": {
          "base_uri": "https://localhost:8080/"
        },
        "outputId": "4ae59939-f08a-4d5c-d507-da4a8dac1549"
      },
      "source": [
        "#NumPy Array Reshaping\n",
        "\n",
        "arr = np.array([1, 2, 3, 4, 5, 6, 7, 8, 9, 10, 11, 12])\n",
        "\n",
        "#convert 1D to 2D array\n",
        "newarr = arr.reshape(4, 3) \n",
        "#The outermost dimension will have 4 arrays, each with 3 elements:\n",
        "\n",
        "#convert 1D to 3D array\n",
        "newarr1 = arr.reshape(2, 3, 2)\n",
        "#The outermost dimension will have 2 arrays that contains 3 arrays, each with 2 elements:\n",
        "\n",
        "print(newarr)\n",
        "print(newarr1)\n"
      ],
      "execution_count": 66,
      "outputs": [
        {
          "output_type": "stream",
          "text": [
            "[[ 1  2  3]\n",
            " [ 4  5  6]\n",
            " [ 7  8  9]\n",
            " [10 11 12]]\n",
            "[[[ 1  2]\n",
            "  [ 3  4]\n",
            "  [ 5  6]]\n",
            "\n",
            " [[ 7  8]\n",
            "  [ 9 10]\n",
            "  [11 12]]]\n"
          ],
          "name": "stdout"
        }
      ]
    },
    {
      "cell_type": "code",
      "metadata": {
        "id": "twqJX9kUjTBS",
        "colab": {
          "base_uri": "https://localhost:8080/"
        },
        "outputId": "6d280021-8d4c-4f5a-adfb-5ab83244427a"
      },
      "source": [
        "#Numpy Array iterating\n",
        "\n",
        "#Iterate on the elements of 1-D array\n",
        "arr = np.array(['apple','mango','cherry'])\n",
        "for x in arr:\n",
        "  print(x)\n",
        "\n",
        "#Iterate on the elements of 2-D array\n",
        "arr1 = np.array([[1, 2, 3], ['cat','ball','bat']])\n",
        "for x in arr1:\n",
        "    print(x)\n",
        "\n",
        "#to Iterate each element of 2D-array\n",
        "arr2 = np.array([[1, 2, 3], ['cat','ball','bat']])\n",
        "for x in arr2:\n",
        "  for y in x: \n",
        "    print(y)\n",
        "\n",
        "\n",
        "#Iterate on the elements of 3-D array\n",
        "arr3 = np.array([[[1, 2, 3], [4, 5, 6]], [[7, 8, 9], [10, 11, 12]]])\n",
        "for x in arr3:\n",
        "  print(x)\n",
        "\n",
        "#to Iterate each element of 3D-array\n",
        "arr4 = np.array([[['cat','ball','bat'], [4, 5, 6]], [['apple','mango','cherry'], [10, 11, 12]]])\n",
        "for x in arr4:\n",
        "  for y in x:\n",
        "    for z in y: \n",
        "      print(z)\n",
        " "
      ],
      "execution_count": 67,
      "outputs": [
        {
          "output_type": "stream",
          "text": [
            "apple\n",
            "mango\n",
            "cherry\n",
            "['1' '2' '3']\n",
            "['cat' 'ball' 'bat']\n",
            "1\n",
            "2\n",
            "3\n",
            "cat\n",
            "ball\n",
            "bat\n",
            "[[1 2 3]\n",
            " [4 5 6]]\n",
            "[[ 7  8  9]\n",
            " [10 11 12]]\n",
            "cat\n",
            "ball\n",
            "bat\n",
            "4\n",
            "5\n",
            "6\n",
            "apple\n",
            "mango\n",
            "cherry\n",
            "10\n",
            "11\n",
            "12\n"
          ],
          "name": "stdout"
        }
      ]
    },
    {
      "cell_type": "code",
      "metadata": {
        "colab": {
          "base_uri": "https://localhost:8080/"
        },
        "id": "rBuzLY6GurWC",
        "outputId": "dae2f441-0240-4578-d148-4439bb1cec67"
      },
      "source": [
        "#Joining Numpy Array\n",
        "#Joining 1D-aray\n",
        "arr1 = np.array([1, 2, 3])\n",
        "arr2 = np.array(['a','b','c'])\n",
        "\n",
        "#concatention method\n",
        "arr = np.concatenate((arr1, arr2))\n",
        "print(arr)\n",
        "\n",
        "#stacking method\n",
        "arr6 = np.stack((arr1, arr2), axis=1)  #stacking along axis\n",
        "arr7 = np.hstack((arr1, arr2))  #row stacking\n",
        "arr8 = np.vstack((arr1, arr2))  #column stacking\n",
        "arr9 = np.dstack((arr1, arr2))  #column stacking\n",
        "\n",
        "print(arr6)\n",
        "print(arr7)\n",
        "print(arr8)\n",
        "print(arr9)\n",
        "\n",
        "#Joining 2D-aray\n",
        "arr3 = np.array([[1, 2], [3, 4]])\n",
        "arr4 = np.array([[5, 6], [7, 8]])\n",
        "arr5 = np.concatenate((arr3, arr4), axis=1) #axis 0=down, axis 1=across\n",
        "print(arr5)\n"
      ],
      "execution_count": 68,
      "outputs": [
        {
          "output_type": "stream",
          "text": [
            "['1' '2' '3' 'a' 'b' 'c']\n",
            "[['1' 'a']\n",
            " ['2' 'b']\n",
            " ['3' 'c']]\n",
            "['1' '2' '3' 'a' 'b' 'c']\n",
            "[['1' '2' '3']\n",
            " ['a' 'b' 'c']]\n",
            "[[['1' 'a']\n",
            "  ['2' 'b']\n",
            "  ['3' 'c']]]\n",
            "[[1 2 5 6]\n",
            " [3 4 7 8]]\n"
          ],
          "name": "stdout"
        }
      ]
    },
    {
      "cell_type": "code",
      "metadata": {
        "colab": {
          "base_uri": "https://localhost:8080/"
        },
        "id": "_hGgHfclxt7I",
        "outputId": "ed2567bb-6d59-4701-9028-b8699aaaab6c"
      },
      "source": [
        "#Spliting Numpy Array\n",
        "\n",
        "# Splitting 1-D Arrays\n",
        "\n",
        "arr = np.array(['bat','ball','cat','mat','apple',4,7,12,34])\n",
        "newarr = np.array_split(arr, 3)\n",
        "print(newarr)\n",
        "print(newarr[2]) #you can access any array separately using this\n",
        "\n",
        "#Splitting 2-D Arrays\n",
        "arr1 = np.array([[1, 2], [3, 4], [5, 6], [7, 8], [9, 10], [11, 12]])\n",
        "newarr1 = np.array_split(arr1, 4) #splitting 2d-array into 4 arrays.\n",
        "print(newarr1)\n",
        "\n",
        "#hsplit(), vsplit() and dsplit() can be used to split\n",
        "#row, column and depth wise.\n"
      ],
      "execution_count": 69,
      "outputs": [
        {
          "output_type": "stream",
          "text": [
            "[array(['bat', 'ball', 'cat'], dtype='<U5'), array(['mat', 'apple', '4'], dtype='<U5'), array(['7', '12', '34'], dtype='<U5')]\n",
            "['7' '12' '34']\n",
            "[array([[1, 2],\n",
            "       [3, 4]]), array([[5, 6],\n",
            "       [7, 8]]), array([[ 9, 10]]), array([[11, 12]])]\n"
          ],
          "name": "stdout"
        }
      ]
    },
    {
      "cell_type": "code",
      "metadata": {
        "colab": {
          "base_uri": "https://localhost:8080/"
        },
        "id": "mMjfvOpZ0rYC",
        "outputId": "d8e25bde-2ef6-4b66-e497-bc01cf5c7542"
      },
      "source": [
        "#Searching Arrays using Numpy\n",
        "\n",
        "arr = np.array([1, 2, 3, 4, 5, 4, 4])\n",
        "x = np.where(arr == 4) #find a specific number\n",
        "x1 = np.where(arr%2 == 0)  #find all even number\n",
        "x2 = np.where(arr%2 == 1)  #find all odd number\n",
        "\n",
        "print(x)\n",
        "print(x1)\n",
        "print(x2)\n",
        "#Note: the result will be the index of the element"
      ],
      "execution_count": 70,
      "outputs": [
        {
          "output_type": "stream",
          "text": [
            "(array([3, 5, 6]),)\n",
            "(array([1, 3, 5, 6]),)\n",
            "(array([0, 2, 4]),)\n"
          ],
          "name": "stdout"
        }
      ]
    },
    {
      "cell_type": "markdown",
      "metadata": {
        "id": "rLiqt3Jp2baM"
      },
      "source": [
        "**Search Sorted**\n",
        "\n",
        "*There is a method called searchsorted() which performs a binary search in the array, and returns the index where the specified value would be inserted to maintain the search order.*\n"
      ]
    },
    {
      "cell_type": "code",
      "metadata": {
        "colab": {
          "base_uri": "https://localhost:8080/"
        },
        "id": "AE8mVkiJ2msL",
        "outputId": "c8c5ce8e-ff3e-40a5-e0a5-3522c8d4ae22"
      },
      "source": [
        "array = np.array([1, 7, 5, 9])\n",
        "x = np.searchsorted(array, 5)\n",
        "x1 = np.searchsorted(array, 5, side='right')\n",
        "x2 = np.searchsorted(array, 5, side='left')\n",
        "\n",
        "print(x)\n",
        "print(x1)\n",
        "print(x2)\n"
      ],
      "execution_count": 71,
      "outputs": [
        {
          "output_type": "stream",
          "text": [
            "1\n",
            "3\n",
            "1\n"
          ],
          "name": "stdout"
        }
      ]
    },
    {
      "cell_type": "code",
      "metadata": {
        "colab": {
          "base_uri": "https://localhost:8080/"
        },
        "id": "LSWVh53W32z4",
        "outputId": "7edadfbb-f9bd-4a8f-cf48-a1509bbccedc"
      },
      "source": [
        "#Sorting array\n",
        "\n",
        "#Sorting 1D-array\n",
        "arr = np.array([67, 34, 70, 41])\n",
        "print(np.sort(arr))\n",
        "\n",
        "#sorting array alphabetically\n",
        "arr1 = np.array(['vivo','samsung','oppo','appple'])\n",
        "print(np.sort(arr1))\n",
        "\n",
        "#Sorting 2D-array\n",
        "arr2 = np.array([[33, 12, 74], ['vivo','samsung','oppo']])\n",
        "print(np.sort(arr2))"
      ],
      "execution_count": 72,
      "outputs": [
        {
          "output_type": "stream",
          "text": [
            "[34 41 67 70]\n",
            "['appple' 'oppo' 'samsung' 'vivo']\n",
            "[['12' '33' '74']\n",
            " ['oppo' 'samsung' 'vivo']]\n"
          ],
          "name": "stdout"
        }
      ]
    }
  ]
}
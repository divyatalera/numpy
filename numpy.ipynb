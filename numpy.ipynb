{
  "nbformat": 4,
  "nbformat_minor": 0,
  "metadata": {
    "colab": {
      "name": "numpy.ipynb",
      "provenance": [],
      "collapsed_sections": [],
      "authorship_tag": "ABX9TyNKHiSpGzG1BSlvPdWmF66U"
    },
    "kernelspec": {
      "name": "python3",
      "display_name": "Python 3"
    }
  },
  "cells": [
    {
      "cell_type": "code",
      "metadata": {
        "id": "CKF410dDhWvO",
        "colab": {
          "base_uri": "https://localhost:8080/"
        },
        "outputId": "049edef1-60d1-4814-e40f-5ebc08713f9a"
      },
      "source": [
        "#creating array using numpy\n",
        "import numpy as np\n",
        "\n",
        "arr1 = np.array(['a', 'b', 'c', 4, 5])   #1D array\n",
        "arr2 = np.array([['d', 'e', 3], ['x', 's', 6]])   #2D array\n",
        "arr3 = np.array([[1, 2, 3], [4, 5, 6],[7,8,9]])  #3D array\n",
        "\n",
        "print(arr1)\n",
        "print(arr2)\n",
        "print(arr3)\n",
        "\n",
        "print(type(arr1))\n",
        "\n",
        "arr4 = np.array(['m', 'a', 'n', 4], ndmin=6)\n",
        "\n",
        "print(arr4)\n",
        "print('number of dimensions :', arr4.ndim)"
      ],
      "execution_count": 8,
      "outputs": [
        {
          "output_type": "stream",
          "text": [
            "['a' 'b' 'c' '4' '5']\n",
            "[['d' 'e' '3']\n",
            " ['x' 's' '6']]\n",
            "[[1 2 3]\n",
            " [4 5 6]\n",
            " [7 8 9]]\n",
            "<class 'numpy.ndarray'>\n",
            "[[[[[['m' 'a' 'n' '4']]]]]]\n",
            "number of dimensions : 6\n"
          ],
          "name": "stdout"
        }
      ]
    }
  ]
}